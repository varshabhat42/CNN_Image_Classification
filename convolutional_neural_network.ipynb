{
 "cells": [
  {
   "cell_type": "markdown",
   "metadata": {
    "colab_type": "text",
    "id": "3DR-eO17geWu"
   },
   "source": [
    "# Convolutional Neural Network"
   ]
  },
  {
   "cell_type": "code",
   "execution_count": 17,
   "metadata": {
    "colab": {},
    "colab_type": "code",
    "id": "sCV30xyVhFbE"
   },
   "outputs": [],
   "source": [
    "import tensorflow as tf\n",
    "from keras.preprocessing.image import ImageDataGenerator"
   ]
  },
  {
   "cell_type": "code",
   "execution_count": 18,
   "metadata": {
    "colab": {},
    "colab_type": "code",
    "id": "FIleuCAjoFD8"
   },
   "outputs": [
    {
     "data": {
      "text/plain": [
       "'2.7.0'"
      ]
     },
     "execution_count": 18,
     "metadata": {},
     "output_type": "execute_result"
    }
   ],
   "source": [
    "tf.__version__"
   ]
  },
  {
   "cell_type": "markdown",
   "metadata": {
    "colab_type": "text",
    "id": "oxQxCBWyoGPE"
   },
   "source": [
    "## Data Preprocessing"
   ]
  },
  {
   "cell_type": "markdown",
   "metadata": {
    "colab_type": "text",
    "id": "MvE-heJNo3GG"
   },
   "source": [
    "### Preprocessing the Training set"
   ]
  },
  {
   "cell_type": "code",
   "execution_count": 19,
   "metadata": {
    "colab": {},
    "colab_type": "code",
    "id": "0koUcJMJpEBD"
   },
   "outputs": [
    {
     "name": "stdout",
     "output_type": "stream",
     "text": [
      "Found 8000 images belonging to 2 classes.\n"
     ]
    }
   ],
   "source": [
    "train_datagen = ImageDataGenerator(rescale = 1./255,\n",
    "                                   shear_range = 0.2,\n",
    "                                   zoom_range = 0.2,\n",
    "                                   horizontal_flip = True)\n",
    "training_set = train_datagen.flow_from_directory('dataset/training_set',\n",
    "                                                 target_size = (64, 64),\n",
    "                                                 batch_size = 32,\n",
    "                                                 class_mode = 'binary')"
   ]
  },
  {
   "cell_type": "markdown",
   "metadata": {
    "colab_type": "text",
    "id": "mrCMmGw9pHys"
   },
   "source": [
    "### Preprocessing the Test set"
   ]
  },
  {
   "cell_type": "code",
   "execution_count": 20,
   "metadata": {
    "colab": {},
    "colab_type": "code",
    "id": "SH4WzfOhpKc3"
   },
   "outputs": [
    {
     "name": "stdout",
     "output_type": "stream",
     "text": [
      "Found 2000 images belonging to 2 classes.\n"
     ]
    }
   ],
   "source": [
    "test_datagen = ImageDataGenerator(rescale = 1./255)\n",
    "test_set = test_datagen.flow_from_directory('dataset/test_set',\n",
    "                                            target_size = (64, 64),\n",
    "                                            batch_size = 32,\n",
    "                                            class_mode = 'binary')"
   ]
  },
  {
   "cell_type": "markdown",
   "metadata": {
    "colab_type": "text",
    "id": "af8O4l90gk7B"
   },
   "source": [
    "## Building the CNN"
   ]
  },
  {
   "cell_type": "code",
   "execution_count": 21,
   "metadata": {
    "colab": {},
    "colab_type": "code",
    "id": "SAUt4UMPlhLS"
   },
   "outputs": [],
   "source": [
    "cnn = tf.keras.models.Sequential()   #Initialization\n",
    "cnn.add(tf.keras.layers.Conv2D(filters=32, kernel_size=3, activation='relu', input_shape=[64, 64, 3]))   #Convolution layer\n",
    "cnn.add(tf.keras.layers.MaxPool2D(pool_size=2, strides=2))   #Pooling layer\n",
    "cnn.add(tf.keras.layers.Conv2D(filters=32, kernel_size=3, activation='relu'))   #Additional convolutional layer\n",
    "cnn.add(tf.keras.layers.MaxPool2D(pool_size=2, strides=2))  #Additional pooling layer\n",
    "cnn.add(tf.keras.layers.Flatten())  #Flattening layer\n",
    "cnn.add(tf.keras.layers.Dense(units=128, activation='relu'))\n",
    "cnn.add(tf.keras.layers.Dense(units=1, activation='sigmoid'))   #Output Layer"
   ]
  },
  {
   "cell_type": "markdown",
   "metadata": {
    "colab_type": "text",
    "id": "D6XkI90snSDl"
   },
   "source": [
    "## Training the CNN"
   ]
  },
  {
   "cell_type": "code",
   "execution_count": 22,
   "metadata": {
    "colab": {},
    "colab_type": "code",
    "id": "NALksrNQpUlJ"
   },
   "outputs": [
    {
     "name": "stdout",
     "output_type": "stream",
     "text": [
      "Epoch 1/25\n",
      "250/250 [==============================] - 155s 619ms/step - loss: 0.6761 - accuracy: 0.5641 - val_loss: 0.6735 - val_accuracy: 0.5935\n",
      "Epoch 2/25\n",
      "250/250 [==============================] - 55s 222ms/step - loss: 0.6036 - accuracy: 0.6700 - val_loss: 0.5882 - val_accuracy: 0.6840\n",
      "Epoch 3/25\n",
      "250/250 [==============================] - 54s 218ms/step - loss: 0.5581 - accuracy: 0.7072 - val_loss: 0.5230 - val_accuracy: 0.7425\n",
      "Epoch 4/25\n",
      "250/250 [==============================] - 53s 212ms/step - loss: 0.5271 - accuracy: 0.7379 - val_loss: 0.5210 - val_accuracy: 0.7480\n",
      "Epoch 5/25\n",
      "250/250 [==============================] - 53s 210ms/step - loss: 0.5023 - accuracy: 0.7536 - val_loss: 0.4894 - val_accuracy: 0.7630\n",
      "Epoch 6/25\n",
      "250/250 [==============================] - 55s 219ms/step - loss: 0.4876 - accuracy: 0.7594 - val_loss: 0.4854 - val_accuracy: 0.7630\n",
      "Epoch 7/25\n",
      "250/250 [==============================] - 56s 225ms/step - loss: 0.4697 - accuracy: 0.7710 - val_loss: 0.5201 - val_accuracy: 0.7395\n",
      "Epoch 8/25\n",
      "250/250 [==============================] - 56s 225ms/step - loss: 0.4488 - accuracy: 0.7880 - val_loss: 0.4676 - val_accuracy: 0.7735\n",
      "Epoch 9/25\n",
      "250/250 [==============================] - 54s 218ms/step - loss: 0.4475 - accuracy: 0.7865 - val_loss: 0.4580 - val_accuracy: 0.7865\n",
      "Epoch 10/25\n",
      "250/250 [==============================] - 75s 299ms/step - loss: 0.4251 - accuracy: 0.8018 - val_loss: 0.5236 - val_accuracy: 0.7480\n",
      "Epoch 11/25\n",
      "250/250 [==============================] - 63s 253ms/step - loss: 0.4075 - accuracy: 0.8108 - val_loss: 0.4754 - val_accuracy: 0.7840\n",
      "Epoch 12/25\n",
      "250/250 [==============================] - 60s 241ms/step - loss: 0.3910 - accuracy: 0.8204 - val_loss: 0.4517 - val_accuracy: 0.7995\n",
      "Epoch 13/25\n",
      "250/250 [==============================] - 61s 244ms/step - loss: 0.3917 - accuracy: 0.8225 - val_loss: 0.4988 - val_accuracy: 0.7830\n",
      "Epoch 14/25\n",
      "250/250 [==============================] - 67s 267ms/step - loss: 0.3710 - accuracy: 0.8326 - val_loss: 0.4599 - val_accuracy: 0.7975\n",
      "Epoch 15/25\n",
      "250/250 [==============================] - 74s 294ms/step - loss: 0.3634 - accuracy: 0.8390 - val_loss: 0.4817 - val_accuracy: 0.7910\n",
      "Epoch 16/25\n",
      "250/250 [==============================] - 257s 1s/step - loss: 0.3411 - accuracy: 0.8489 - val_loss: 0.4703 - val_accuracy: 0.7970\n",
      "Epoch 17/25\n",
      "250/250 [==============================] - 128s 513ms/step - loss: 0.3488 - accuracy: 0.8421 - val_loss: 0.4580 - val_accuracy: 0.7975\n",
      "Epoch 18/25\n",
      "250/250 [==============================] - 47s 190ms/step - loss: 0.3162 - accuracy: 0.8626 - val_loss: 0.5208 - val_accuracy: 0.7805\n",
      "Epoch 19/25\n",
      "250/250 [==============================] - 47s 188ms/step - loss: 0.3104 - accuracy: 0.8650 - val_loss: 0.4970 - val_accuracy: 0.7970\n",
      "Epoch 20/25\n",
      "250/250 [==============================] - 48s 191ms/step - loss: 0.2982 - accuracy: 0.8692 - val_loss: 0.5094 - val_accuracy: 0.7890\n",
      "Epoch 21/25\n",
      "250/250 [==============================] - 46s 186ms/step - loss: 0.2798 - accuracy: 0.8826 - val_loss: 0.5575 - val_accuracy: 0.7740\n",
      "Epoch 22/25\n",
      "250/250 [==============================] - 53s 214ms/step - loss: 0.2732 - accuracy: 0.8851 - val_loss: 0.4856 - val_accuracy: 0.7990\n",
      "Epoch 23/25\n",
      "250/250 [==============================] - 51s 203ms/step - loss: 0.2601 - accuracy: 0.8899 - val_loss: 0.4892 - val_accuracy: 0.8065\n",
      "Epoch 24/25\n",
      "250/250 [==============================] - 49s 197ms/step - loss: 0.2400 - accuracy: 0.9040 - val_loss: 0.4932 - val_accuracy: 0.8125\n",
      "Epoch 25/25\n",
      "250/250 [==============================] - 49s 198ms/step - loss: 0.2346 - accuracy: 0.8999 - val_loss: 0.5475 - val_accuracy: 0.8025\n"
     ]
    },
    {
     "data": {
      "text/plain": [
       "<keras.callbacks.History at 0x225115a6080>"
      ]
     },
     "execution_count": 22,
     "metadata": {},
     "output_type": "execute_result"
    }
   ],
   "source": [
    "cnn.compile(optimizer = 'adam', loss = 'binary_crossentropy', metrics = ['accuracy'])   #Compiling CNN\n",
    "cnn.fit(x = training_set, validation_data = test_set, epochs = 25)   #Training CNN and evaluation of cnn on test set"
   ]
  },
  {
   "cell_type": "markdown",
   "metadata": {
    "colab_type": "text",
    "id": "U3PZasO0006Z"
   },
   "source": [
    "## Making a single prediction"
   ]
  },
  {
   "cell_type": "code",
   "execution_count": 23,
   "metadata": {
    "colab": {},
    "colab_type": "code",
    "id": "gsSiWEJY1BPB"
   },
   "outputs": [
    {
     "name": "stdout",
     "output_type": "stream",
     "text": [
      "dog\n"
     ]
    }
   ],
   "source": [
    "import numpy as np\n",
    "from keras.preprocessing import image\n",
    "test_image = image.load_img('dataset/single_prediction/cat_or_dog_1.jpg', target_size = (64, 64))\n",
    "test_image = image.img_to_array(test_image)\n",
    "test_image = np.expand_dims(test_image, axis = 0)\n",
    "result = cnn.predict(test_image)\n",
    "training_set.class_indices\n",
    "if result[0][0] == 1:\n",
    "  prediction = 'dog'\n",
    "else:\n",
    "  prediction = 'cat'\n",
    "print(prediction)"
   ]
  }
 ],
 "metadata": {
  "colab": {
   "collapsed_sections": [],
   "name": "convolutional_neural_network.ipynb",
   "provenance": [],
   "toc_visible": true
  },
  "kernelspec": {
   "display_name": "Python 3",
   "language": "python",
   "name": "python3"
  },
  "language_info": {
   "codemirror_mode": {
    "name": "ipython",
    "version": 3
   },
   "file_extension": ".py",
   "mimetype": "text/x-python",
   "name": "python",
   "nbconvert_exporter": "python",
   "pygments_lexer": "ipython3",
   "version": "3.7.3"
  }
 },
 "nbformat": 4,
 "nbformat_minor": 1
}
